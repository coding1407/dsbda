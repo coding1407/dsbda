{
  "nbformat": 4,
  "nbformat_minor": 0,
  "metadata": {
    "colab": {
      "provenance": []
    },
    "kernelspec": {
      "name": "python3",
      "display_name": "Python 3"
    },
    "language_info": {
      "name": "python"
    }
  },
  "cells": [
    {
      "cell_type": "markdown",
      "source": [
        "DSBDA LAB\n",
        "\n",
        "GROUP A - 07\n",
        "\n",
        "DATA ANALYTICS(TEXT)"
      ],
      "metadata": {
        "id": "DW_z9ul04aIt"
      }
    },
    {
      "cell_type": "code",
      "execution_count": null,
      "metadata": {
        "id": "6uPq3mm0WyLH"
      },
      "outputs": [],
      "source": [
        "import numpy as np\n",
        "import pandas as pd\n",
        "import nltk as nlt\n",
        "import warnings\n"
      ]
    },
    {
      "cell_type": "code",
      "source": [
        "text=\"\"\"What is machine learning?\n",
        "Machine learning is a branch of artificial intelligence (AI) and computer science which focuses on the use of data and algorithms to imitate the way that humans learn, gradually improving its accuracy.\n",
        "IBM has a rich history with machine learning. One of its own, Arthur Samuel, is credited for coining the term, “machine learning” with his research (PDF, 481 KB) (link resides outside IBM) around the game of checkers. Robert Nealey, the self-proclaimed checkers master, played the game on an IBM 7094 computer in 1962, and he lost to the computer. Compared to what can be done today, this feat seems trivial, but it’s considered a major milestone in the field of artificial intelligence.\"\"\"\n"
      ],
      "metadata": {
        "id": "T8P7u8twXVl_"
      },
      "execution_count": null,
      "outputs": []
    },
    {
      "cell_type": "code",
      "source": [
        "text"
      ],
      "metadata": {
        "colab": {
          "base_uri": "https://localhost:8080/",
          "height": 88
        },
        "id": "tR8yG236XVvg",
        "outputId": "a2e9c02a-739d-4e8e-8066-194f1a916b8a"
      },
      "execution_count": null,
      "outputs": [
        {
          "output_type": "execute_result",
          "data": {
            "text/plain": [
              "'What is machine learning?\\nMachine learning is a branch of artificial intelligence (AI) and computer science which focuses on the use of data and algorithms to imitate the way that humans learn, gradually improving its accuracy.\\nIBM has a rich history with machine learning. One of its own, Arthur Samuel, is credited for coining the term, “machine learning” with his research (PDF, 481 KB) (link resides outside IBM) around the game of checkers. Robert Nealey, the self-proclaimed checkers master, played the game on an IBM 7094 computer in 1962, and he lost to the computer. Compared to what can be done today, this feat seems trivial, but it’s considered a major milestone in the field of artificial intelligence.'"
            ],
            "application/vnd.google.colaboratory.intrinsic+json": {
              "type": "string"
            }
          },
          "metadata": {},
          "execution_count": 3
        }
      ]
    },
    {
      "cell_type": "code",
      "source": [
        "from nltk import word_tokenize,sent_tokenize"
      ],
      "metadata": {
        "id": "XiTDiqEAYcrY"
      },
      "execution_count": null,
      "outputs": []
    },
    {
      "cell_type": "code",
      "source": [
        "nlt.download('punkt')"
      ],
      "metadata": {
        "colab": {
          "base_uri": "https://localhost:8080/"
        },
        "id": "d9ZK3-H5YmC6",
        "outputId": "b28cc87e-68ab-4ed3-8271-b09e6afa2081"
      },
      "execution_count": null,
      "outputs": [
        {
          "output_type": "stream",
          "name": "stderr",
          "text": [
            "[nltk_data] Downloading package punkt to /root/nltk_data...\n",
            "[nltk_data]   Unzipping tokenizers/punkt.zip.\n"
          ]
        },
        {
          "output_type": "execute_result",
          "data": {
            "text/plain": [
              "True"
            ]
          },
          "metadata": {},
          "execution_count": 5
        }
      ]
    },
    {
      "cell_type": "code",
      "source": [
        "word_tokenize(text)"
      ],
      "metadata": {
        "colab": {
          "base_uri": "https://localhost:8080/"
        },
        "id": "ocjKfWhfYmSW",
        "outputId": "b391e4da-b2e9-48bd-a3b8-4696968dfa3e"
      },
      "execution_count": null,
      "outputs": [
        {
          "output_type": "execute_result",
          "data": {
            "text/plain": [
              "['What',\n",
              " 'is',\n",
              " 'machine',\n",
              " 'learning',\n",
              " '?',\n",
              " 'Machine',\n",
              " 'learning',\n",
              " 'is',\n",
              " 'a',\n",
              " 'branch',\n",
              " 'of',\n",
              " 'artificial',\n",
              " 'intelligence',\n",
              " '(',\n",
              " 'AI',\n",
              " ')',\n",
              " 'and',\n",
              " 'computer',\n",
              " 'science',\n",
              " 'which',\n",
              " 'focuses',\n",
              " 'on',\n",
              " 'the',\n",
              " 'use',\n",
              " 'of',\n",
              " 'data',\n",
              " 'and',\n",
              " 'algorithms',\n",
              " 'to',\n",
              " 'imitate',\n",
              " 'the',\n",
              " 'way',\n",
              " 'that',\n",
              " 'humans',\n",
              " 'learn',\n",
              " ',',\n",
              " 'gradually',\n",
              " 'improving',\n",
              " 'its',\n",
              " 'accuracy',\n",
              " '.',\n",
              " 'IBM',\n",
              " 'has',\n",
              " 'a',\n",
              " 'rich',\n",
              " 'history',\n",
              " 'with',\n",
              " 'machine',\n",
              " 'learning',\n",
              " '.',\n",
              " 'One',\n",
              " 'of',\n",
              " 'its',\n",
              " 'own',\n",
              " ',',\n",
              " 'Arthur',\n",
              " 'Samuel',\n",
              " ',',\n",
              " 'is',\n",
              " 'credited',\n",
              " 'for',\n",
              " 'coining',\n",
              " 'the',\n",
              " 'term',\n",
              " ',',\n",
              " '“',\n",
              " 'machine',\n",
              " 'learning',\n",
              " '”',\n",
              " 'with',\n",
              " 'his',\n",
              " 'research',\n",
              " '(',\n",
              " 'PDF',\n",
              " ',',\n",
              " '481',\n",
              " 'KB',\n",
              " ')',\n",
              " '(',\n",
              " 'link',\n",
              " 'resides',\n",
              " 'outside',\n",
              " 'IBM',\n",
              " ')',\n",
              " 'around',\n",
              " 'the',\n",
              " 'game',\n",
              " 'of',\n",
              " 'checkers',\n",
              " '.',\n",
              " 'Robert',\n",
              " 'Nealey',\n",
              " ',',\n",
              " 'the',\n",
              " 'self-proclaimed',\n",
              " 'checkers',\n",
              " 'master',\n",
              " ',',\n",
              " 'played',\n",
              " 'the',\n",
              " 'game',\n",
              " 'on',\n",
              " 'an',\n",
              " 'IBM',\n",
              " '7094',\n",
              " 'computer',\n",
              " 'in',\n",
              " '1962',\n",
              " ',',\n",
              " 'and',\n",
              " 'he',\n",
              " 'lost',\n",
              " 'to',\n",
              " 'the',\n",
              " 'computer',\n",
              " '.',\n",
              " 'Compared',\n",
              " 'to',\n",
              " 'what',\n",
              " 'can',\n",
              " 'be',\n",
              " 'done',\n",
              " 'today',\n",
              " ',',\n",
              " 'this',\n",
              " 'feat',\n",
              " 'seems',\n",
              " 'trivial',\n",
              " ',',\n",
              " 'but',\n",
              " 'it',\n",
              " '’',\n",
              " 's',\n",
              " 'considered',\n",
              " 'a',\n",
              " 'major',\n",
              " 'milestone',\n",
              " 'in',\n",
              " 'the',\n",
              " 'field',\n",
              " 'of',\n",
              " 'artificial',\n",
              " 'intelligence',\n",
              " '.']"
            ]
          },
          "metadata": {},
          "execution_count": 6
        }
      ]
    },
    {
      "cell_type": "code",
      "source": [
        "sent_tokenize(text)"
      ],
      "metadata": {
        "colab": {
          "base_uri": "https://localhost:8080/"
        },
        "id": "iMu4dwgGYxLW",
        "outputId": "0bb0d15e-b58b-46d9-ca24-9361d399f9be"
      },
      "execution_count": null,
      "outputs": [
        {
          "output_type": "execute_result",
          "data": {
            "text/plain": [
              "['What is machine learning?',\n",
              " 'Machine learning is a branch of artificial intelligence (AI) and computer science which focuses on the use of data and algorithms to imitate the way that humans learn, gradually improving its accuracy.',\n",
              " 'IBM has a rich history with machine learning.',\n",
              " 'One of its own, Arthur Samuel, is credited for coining the term, “machine learning” with his research (PDF, 481 KB) (link resides outside IBM) around the game of checkers.',\n",
              " 'Robert Nealey, the self-proclaimed checkers master, played the game on an IBM 7094 computer in 1962, and he lost to the computer.',\n",
              " 'Compared to what can be done today, this feat seems trivial, but it’s considered a major milestone in the field of artificial intelligence.']"
            ]
          },
          "metadata": {},
          "execution_count": 7
        }
      ]
    },
    {
      "cell_type": "markdown",
      "source": [
        "#Removing Stop-Words"
      ],
      "metadata": {
        "id": "d41MaRIfZGpM"
      }
    },
    {
      "cell_type": "code",
      "source": [
        "from nltk.corpus import stopwords\n",
        "\n",
        "import nltk\n",
        "\n",
        "nltk.download('stopwords')\n",
        "\n",
        "stop_words=stopwords.words('english')\n",
        "\n",
        "print(stop_words)"
      ],
      "metadata": {
        "colab": {
          "base_uri": "https://localhost:8080/"
        },
        "id": "IbcgzoIhYxSg",
        "outputId": "d799c1f4-d0dd-4d06-ef74-c58023a59b84"
      },
      "execution_count": null,
      "outputs": [
        {
          "output_type": "stream",
          "name": "stdout",
          "text": [
            "['i', 'me', 'my', 'myself', 'we', 'our', 'ours', 'ourselves', 'you', \"you're\", \"you've\", \"you'll\", \"you'd\", 'your', 'yours', 'yourself', 'yourselves', 'he', 'him', 'his', 'himself', 'she', \"she's\", 'her', 'hers', 'herself', 'it', \"it's\", 'its', 'itself', 'they', 'them', 'their', 'theirs', 'themselves', 'what', 'which', 'who', 'whom', 'this', 'that', \"that'll\", 'these', 'those', 'am', 'is', 'are', 'was', 'were', 'be', 'been', 'being', 'have', 'has', 'had', 'having', 'do', 'does', 'did', 'doing', 'a', 'an', 'the', 'and', 'but', 'if', 'or', 'because', 'as', 'until', 'while', 'of', 'at', 'by', 'for', 'with', 'about', 'against', 'between', 'into', 'through', 'during', 'before', 'after', 'above', 'below', 'to', 'from', 'up', 'down', 'in', 'out', 'on', 'off', 'over', 'under', 'again', 'further', 'then', 'once', 'here', 'there', 'when', 'where', 'why', 'how', 'all', 'any', 'both', 'each', 'few', 'more', 'most', 'other', 'some', 'such', 'no', 'nor', 'not', 'only', 'own', 'same', 'so', 'than', 'too', 'very', 's', 't', 'can', 'will', 'just', 'don', \"don't\", 'should', \"should've\", 'now', 'd', 'll', 'm', 'o', 're', 've', 'y', 'ain', 'aren', \"aren't\", 'couldn', \"couldn't\", 'didn', \"didn't\", 'doesn', \"doesn't\", 'hadn', \"hadn't\", 'hasn', \"hasn't\", 'haven', \"haven't\", 'isn', \"isn't\", 'ma', 'mightn', \"mightn't\", 'mustn', \"mustn't\", 'needn', \"needn't\", 'shan', \"shan't\", 'shouldn', \"shouldn't\", 'wasn', \"wasn't\", 'weren', \"weren't\", 'won', \"won't\", 'wouldn', \"wouldn't\"]\n"
          ]
        },
        {
          "output_type": "stream",
          "name": "stderr",
          "text": [
            "[nltk_data] Downloading package stopwords to /root/nltk_data...\n",
            "[nltk_data]   Unzipping corpora/stopwords.zip.\n"
          ]
        }
      ]
    },
    {
      "cell_type": "code",
      "source": [
        "token=word_tokenize(text)\n",
        "cleaned_token=[]\n",
        "for word in token:\n",
        "  if word not in stop_words:\n",
        "    cleaned_token.append(word)\n",
        "\n",
        "print(\"this is the unclean version:\",token)    \n",
        "print(\"this is the clean version:\",cleaned_token)    \n"
      ],
      "metadata": {
        "colab": {
          "base_uri": "https://localhost:8080/"
        },
        "id": "j5I0pp90YbxR",
        "outputId": "b5908b93-3564-4b8d-9974-7e705e5134b7"
      },
      "execution_count": null,
      "outputs": [
        {
          "output_type": "stream",
          "name": "stdout",
          "text": [
            "this is the unclean version: ['What', 'is', 'machine', 'learning', '?', 'Machine', 'learning', 'is', 'a', 'branch', 'of', 'artificial', 'intelligence', '(', 'AI', ')', 'and', 'computer', 'science', 'which', 'focuses', 'on', 'the', 'use', 'of', 'data', 'and', 'algorithms', 'to', 'imitate', 'the', 'way', 'that', 'humans', 'learn', ',', 'gradually', 'improving', 'its', 'accuracy', '.', 'IBM', 'has', 'a', 'rich', 'history', 'with', 'machine', 'learning', '.', 'One', 'of', 'its', 'own', ',', 'Arthur', 'Samuel', ',', 'is', 'credited', 'for', 'coining', 'the', 'term', ',', '“', 'machine', 'learning', '”', 'with', 'his', 'research', '(', 'PDF', ',', '481', 'KB', ')', '(', 'link', 'resides', 'outside', 'IBM', ')', 'around', 'the', 'game', 'of', 'checkers', '.', 'Robert', 'Nealey', ',', 'the', 'self-proclaimed', 'checkers', 'master', ',', 'played', 'the', 'game', 'on', 'an', 'IBM', '7094', 'computer', 'in', '1962', ',', 'and', 'he', 'lost', 'to', 'the', 'computer', '.', 'Compared', 'to', 'what', 'can', 'be', 'done', 'today', ',', 'this', 'feat', 'seems', 'trivial', ',', 'but', 'it', '’', 's', 'considered', 'a', 'major', 'milestone', 'in', 'the', 'field', 'of', 'artificial', 'intelligence', '.']\n",
            "this is the clean version: ['What', 'machine', 'learning', '?', 'Machine', 'learning', 'branch', 'artificial', 'intelligence', '(', 'AI', ')', 'computer', 'science', 'focuses', 'use', 'data', 'algorithms', 'imitate', 'way', 'humans', 'learn', ',', 'gradually', 'improving', 'accuracy', '.', 'IBM', 'rich', 'history', 'machine', 'learning', '.', 'One', ',', 'Arthur', 'Samuel', ',', 'credited', 'coining', 'term', ',', '“', 'machine', 'learning', '”', 'research', '(', 'PDF', ',', '481', 'KB', ')', '(', 'link', 'resides', 'outside', 'IBM', ')', 'around', 'game', 'checkers', '.', 'Robert', 'Nealey', ',', 'self-proclaimed', 'checkers', 'master', ',', 'played', 'game', 'IBM', '7094', 'computer', '1962', ',', 'lost', 'computer', '.', 'Compared', 'done', 'today', ',', 'feat', 'seems', 'trivial', ',', '’', 'considered', 'major', 'milestone', 'field', 'artificial', 'intelligence', '.']\n"
          ]
        }
      ]
    },
    {
      "cell_type": "code",
      "source": [
        "words= [token.lower()\n",
        "        for token in cleaned_token if token.isalpha()\n",
        "        ]"
      ],
      "metadata": {
        "id": "TyUgG6dyaEEM"
      },
      "execution_count": null,
      "outputs": []
    },
    {
      "cell_type": "markdown",
      "source": [
        "#Stemming"
      ],
      "metadata": {
        "id": "5TF3YQLvaevI"
      }
    },
    {
      "cell_type": "code",
      "source": [
        "from nltk.stem import PorterStemmer\n"
      ],
      "metadata": {
        "id": "lhQrFXJsajyF"
      },
      "execution_count": null,
      "outputs": []
    },
    {
      "cell_type": "code",
      "source": [
        "stemmer=PorterStemmer()\n"
      ],
      "metadata": {
        "id": "6CMI5EZCbFvR"
      },
      "execution_count": null,
      "outputs": []
    },
    {
      "cell_type": "code",
      "source": [
        "port_stemmer_output= [\n",
        "  stemmer.stem(word) for word in words]\n"
      ],
      "metadata": {
        "id": "ocrJM3qwbYHz"
      },
      "execution_count": null,
      "outputs": []
    },
    {
      "cell_type": "code",
      "source": [
        "print(port_stemmer_output)"
      ],
      "metadata": {
        "colab": {
          "base_uri": "https://localhost:8080/"
        },
        "id": "0O8LXq9cbfRL",
        "outputId": "d161ef96-c106-4121-c30c-e3d89153868e"
      },
      "execution_count": null,
      "outputs": [
        {
          "output_type": "stream",
          "name": "stdout",
          "text": [
            "['what', 'machin', 'learn', 'machin', 'learn', 'branch', 'artifici', 'intellig', 'ai', 'comput', 'scienc', 'focus', 'use', 'data', 'algorithm', 'imit', 'way', 'human', 'learn', 'gradual', 'improv', 'accuraci', 'ibm', 'rich', 'histori', 'machin', 'learn', 'one', 'arthur', 'samuel', 'credit', 'coin', 'term', 'machin', 'learn', 'research', 'pdf', 'kb', 'link', 'resid', 'outsid', 'ibm', 'around', 'game', 'checker', 'robert', 'nealey', 'checker', 'master', 'play', 'game', 'ibm', 'comput', 'lost', 'comput', 'compar', 'done', 'today', 'feat', 'seem', 'trivial', 'consid', 'major', 'mileston', 'field', 'artifici', 'intellig']\n"
          ]
        }
      ]
    },
    {
      "cell_type": "markdown",
      "source": [
        "#Lemmatization"
      ],
      "metadata": {
        "id": "_LdhNn-gcaCv"
      }
    },
    {
      "cell_type": "code",
      "source": [
        "from nltk.stem import WordNetLemmatizer"
      ],
      "metadata": {
        "id": "UU6aMX4WcKtQ"
      },
      "execution_count": null,
      "outputs": []
    },
    {
      "cell_type": "code",
      "source": [
        "nltk.download('wordnet')"
      ],
      "metadata": {
        "colab": {
          "base_uri": "https://localhost:8080/"
        },
        "id": "T1HVsru1ch5M",
        "outputId": "6c3c1a9b-6c6f-4c52-adcb-728c97846421"
      },
      "execution_count": null,
      "outputs": [
        {
          "output_type": "stream",
          "name": "stderr",
          "text": [
            "[nltk_data] Downloading package wordnet to /root/nltk_data...\n"
          ]
        },
        {
          "output_type": "execute_result",
          "data": {
            "text/plain": [
              "True"
            ]
          },
          "metadata": {},
          "execution_count": 16
        }
      ]
    },
    {
      "cell_type": "code",
      "source": [
        "lemmatizer = WordNetLemmatizer()"
      ],
      "metadata": {
        "id": "9oKPw4kLclpt"
      },
      "execution_count": null,
      "outputs": []
    },
    {
      "cell_type": "code",
      "source": [
        "lemmatizer_output =[\n",
        "    lemmatizer.lemmatize(word) for word in words]"
      ],
      "metadata": {
        "id": "xC6SCSlscqPj"
      },
      "execution_count": null,
      "outputs": []
    },
    {
      "cell_type": "code",
      "source": [
        "print(lemmatizer_output)"
      ],
      "metadata": {
        "colab": {
          "base_uri": "https://localhost:8080/"
        },
        "id": "aWSHoqb6czn9",
        "outputId": "f4760a99-0830-4db5-8201-e1c5a83aff61"
      },
      "execution_count": null,
      "outputs": [
        {
          "output_type": "stream",
          "name": "stdout",
          "text": [
            "['what', 'machine', 'learning', 'machine', 'learning', 'branch', 'artificial', 'intelligence', 'ai', 'computer', 'science', 'focus', 'use', 'data', 'algorithm', 'imitate', 'way', 'human', 'learn', 'gradually', 'improving', 'accuracy', 'ibm', 'rich', 'history', 'machine', 'learning', 'one', 'arthur', 'samuel', 'credited', 'coining', 'term', 'machine', 'learning', 'research', 'pdf', 'kb', 'link', 'resides', 'outside', 'ibm', 'around', 'game', 'checker', 'robert', 'nealey', 'checker', 'master', 'played', 'game', 'ibm', 'computer', 'lost', 'computer', 'compared', 'done', 'today', 'feat', 'seems', 'trivial', 'considered', 'major', 'milestone', 'field', 'artificial', 'intelligence']\n"
          ]
        }
      ]
    },
    {
      "cell_type": "markdown",
      "source": [
        "#Part Of Speech Tagging (POS)"
      ],
      "metadata": {
        "id": "_uW2NpAzd0ZC"
      }
    },
    {
      "cell_type": "code",
      "source": [
        "from nltk import pos_tag"
      ],
      "metadata": {
        "id": "cV3PMxaxdB9W"
      },
      "execution_count": null,
      "outputs": []
    },
    {
      "cell_type": "code",
      "source": [
        "nltk.download('averaged_perceptron_tagger')\n"
      ],
      "metadata": {
        "colab": {
          "base_uri": "https://localhost:8080/"
        },
        "id": "CMKKjPZleEni",
        "outputId": "96cf1270-39b4-4aab-a37e-ac37fe05769d"
      },
      "execution_count": null,
      "outputs": [
        {
          "output_type": "stream",
          "name": "stderr",
          "text": [
            "[nltk_data] Downloading package averaged_perceptron_tagger to\n",
            "[nltk_data]     /root/nltk_data...\n",
            "[nltk_data]   Unzipping taggers/averaged_perceptron_tagger.zip.\n"
          ]
        },
        {
          "output_type": "execute_result",
          "data": {
            "text/plain": [
              "True"
            ]
          },
          "metadata": {},
          "execution_count": 21
        }
      ]
    },
    {
      "cell_type": "code",
      "source": [
        "tagged=pos_tag(lemmatizer_output)"
      ],
      "metadata": {
        "id": "d32zBYbReK9x"
      },
      "execution_count": null,
      "outputs": []
    },
    {
      "cell_type": "code",
      "source": [
        "tagged"
      ],
      "metadata": {
        "colab": {
          "base_uri": "https://localhost:8080/"
        },
        "id": "Mg0Q20MSef8z",
        "outputId": "4df49e92-8def-4c8c-be6f-b23a667542e6"
      },
      "execution_count": null,
      "outputs": [
        {
          "output_type": "execute_result",
          "data": {
            "text/plain": [
              "[('what', 'WP'),\n",
              " ('machine', 'NN'),\n",
              " ('learning', 'VBG'),\n",
              " ('machine', 'NN'),\n",
              " ('learning', 'VBG'),\n",
              " ('branch', 'JJ'),\n",
              " ('artificial', 'JJ'),\n",
              " ('intelligence', 'NN'),\n",
              " ('ai', 'VBP'),\n",
              " ('computer', 'NN'),\n",
              " ('science', 'NN'),\n",
              " ('focus', 'NN'),\n",
              " ('use', 'NN'),\n",
              " ('data', 'NNS'),\n",
              " ('algorithm', 'NNS'),\n",
              " ('imitate', 'VBP'),\n",
              " ('way', 'NN'),\n",
              " ('human', 'JJ'),\n",
              " ('learn', 'VBP'),\n",
              " ('gradually', 'RB'),\n",
              " ('improving', 'VBG'),\n",
              " ('accuracy', 'NN'),\n",
              " ('ibm', 'NN'),\n",
              " ('rich', 'JJ'),\n",
              " ('history', 'NN'),\n",
              " ('machine', 'NN'),\n",
              " ('learning', 'VBG'),\n",
              " ('one', 'CD'),\n",
              " ('arthur', 'NN'),\n",
              " ('samuel', 'NN'),\n",
              " ('credited', 'VBD'),\n",
              " ('coining', 'JJ'),\n",
              " ('term', 'NN'),\n",
              " ('machine', 'NN'),\n",
              " ('learning', 'VBG'),\n",
              " ('research', 'NN'),\n",
              " ('pdf', 'NN'),\n",
              " ('kb', 'VBD'),\n",
              " ('link', 'NN'),\n",
              " ('resides', 'NNS'),\n",
              " ('outside', 'IN'),\n",
              " ('ibm', 'NN'),\n",
              " ('around', 'IN'),\n",
              " ('game', 'NN'),\n",
              " ('checker', 'NN'),\n",
              " ('robert', 'NN'),\n",
              " ('nealey', 'NN'),\n",
              " ('checker', 'NN'),\n",
              " ('master', 'NN'),\n",
              " ('played', 'VBD'),\n",
              " ('game', 'NN'),\n",
              " ('ibm', 'NN'),\n",
              " ('computer', 'NN'),\n",
              " ('lost', 'VBD'),\n",
              " ('computer', 'NN'),\n",
              " ('compared', 'VBN'),\n",
              " ('done', 'VBN'),\n",
              " ('today', 'NN'),\n",
              " ('feat', 'NN'),\n",
              " ('seems', 'VBZ'),\n",
              " ('trivial', 'JJ'),\n",
              " ('considered', 'VBN'),\n",
              " ('major', 'JJ'),\n",
              " ('milestone', 'NN'),\n",
              " ('field', 'NN'),\n",
              " ('artificial', 'JJ'),\n",
              " ('intelligence', 'NN')]"
            ]
          },
          "metadata": {},
          "execution_count": 23
        }
      ]
    },
    {
      "cell_type": "markdown",
      "source": [
        "afternoon session "
      ],
      "metadata": {
        "id": "X-Jhl5K98peS"
      }
    },
    {
      "cell_type": "code",
      "source": [
        "from sklearn.feature_extraction.text import TfidfVectorizer"
      ],
      "metadata": {
        "id": "YzXv2-n0ehj1"
      },
      "execution_count": null,
      "outputs": []
    },
    {
      "cell_type": "code",
      "source": [
        "from sklearn.metrics.pairwise \n",
        "#import cosine_similarity not needed to be added so skipped\n"
      ],
      "metadata": {
        "id": "P7_sCtZc6rmU"
      },
      "execution_count": null,
      "outputs": []
    },
    {
      "cell_type": "code",
      "source": [
        "docs=[\"Sachin is considered to be one of the greatest cricket players\",\n",
        "      \"federer is considered one of the greatest tennis players\",\n",
        "      \"Nadal is considered one of the best tennis player\",\n",
        "      \"virat is the captain of the indian cricket team\"]"
      ],
      "metadata": {
        "id": "0LmAw9rW6412"
      },
      "execution_count": null,
      "outputs": []
    },
    {
      "cell_type": "code",
      "source": [
        "vectorizer = TfidfVectorizer(analyzer=\"word\",norm=None)\n",
        "#vectorizer is the object of class\n",
        "Mat=vectorizer.fit(docs)\n",
        "#mat is the matrix which carries unique words\n",
        "print(Mat.vocabulary_)\n",
        "#vocabulary will print the unique words in the doc"
      ],
      "metadata": {
        "colab": {
          "base_uri": "https://localhost:8080/"
        },
        "id": "uv_BPVh_7Mpc",
        "outputId": "10a94a9c-98bd-4f96-94bc-ef34e8d9fe21"
      },
      "execution_count": null,
      "outputs": [
        {
          "output_type": "stream",
          "name": "stdout",
          "text": [
            "{'sachin': 14, 'is': 8, 'considered': 3, 'to': 18, 'be': 0, 'one': 11, 'of': 10, 'the': 17, 'greatest': 6, 'cricket': 4, 'players': 13, 'federer': 5, 'tennis': 16, 'nadal': 9, 'best': 1, 'player': 12, 'virat': 19, 'captain': 2, 'indian': 7, 'team': 15}\n"
          ]
        }
      ]
    },
    {
      "cell_type": "code",
      "source": [
        "tfidfMat = vectorizer.fit_transform(docs)\n",
        "print(tfidfMat)"
      ],
      "metadata": {
        "colab": {
          "base_uri": "https://localhost:8080/"
        },
        "id": "2RS5F-TC7yJg",
        "outputId": "87a00234-3e04-4985-c6f5-1cc2c9de6d03"
      },
      "execution_count": null,
      "outputs": [
        {
          "output_type": "stream",
          "name": "stdout",
          "text": [
            "  (0, 13)\t1.5108256237659907\n",
            "  (0, 4)\t1.5108256237659907\n",
            "  (0, 6)\t1.5108256237659907\n",
            "  (0, 17)\t1.0\n",
            "  (0, 10)\t1.0\n",
            "  (0, 11)\t1.2231435513142097\n",
            "  (0, 0)\t1.916290731874155\n",
            "  (0, 18)\t1.916290731874155\n",
            "  (0, 3)\t1.2231435513142097\n",
            "  (0, 8)\t1.0\n",
            "  (0, 14)\t1.916290731874155\n",
            "  (1, 16)\t1.5108256237659907\n",
            "  (1, 5)\t1.916290731874155\n",
            "  (1, 13)\t1.5108256237659907\n",
            "  (1, 6)\t1.5108256237659907\n",
            "  (1, 17)\t1.0\n",
            "  (1, 10)\t1.0\n",
            "  (1, 11)\t1.2231435513142097\n",
            "  (1, 3)\t1.2231435513142097\n",
            "  (1, 8)\t1.0\n",
            "  (2, 12)\t1.916290731874155\n",
            "  (2, 1)\t1.916290731874155\n",
            "  (2, 9)\t1.916290731874155\n",
            "  (2, 16)\t1.5108256237659907\n",
            "  (2, 17)\t1.0\n",
            "  (2, 10)\t1.0\n",
            "  (2, 11)\t1.2231435513142097\n",
            "  (2, 3)\t1.2231435513142097\n",
            "  (2, 8)\t1.0\n",
            "  (3, 15)\t1.916290731874155\n",
            "  (3, 7)\t1.916290731874155\n",
            "  (3, 2)\t1.916290731874155\n",
            "  (3, 19)\t1.916290731874155\n",
            "  (3, 4)\t1.5108256237659907\n",
            "  (3, 17)\t2.0\n",
            "  (3, 10)\t1.0\n",
            "  (3, 8)\t1.0\n"
          ]
        }
      ]
    },
    {
      "cell_type": "code",
      "source": [
        "features_names = vectorizer.get_feature_names_out()\n",
        "print(features_names)"
      ],
      "metadata": {
        "colab": {
          "base_uri": "https://localhost:8080/"
        },
        "id": "Ejp7rxCp8O9E",
        "outputId": "cb181add-8459-48d1-c4ea-89f86d55c08c"
      },
      "execution_count": null,
      "outputs": [
        {
          "output_type": "stream",
          "name": "stdout",
          "text": [
            "['be' 'best' 'captain' 'considered' 'cricket' 'federer' 'greatest'\n",
            " 'indian' 'is' 'nadal' 'of' 'one' 'player' 'players' 'sachin' 'team'\n",
            " 'tennis' 'the' 'to' 'virat']\n"
          ]
        }
      ]
    },
    {
      "cell_type": "code",
      "source": [
        "dense = tfidfMat.todense()\n",
        "denselist = dense.tolist()\n",
        "df = pd.DataFrame(denselist,columns = features_names)\n",
        "df"
      ],
      "metadata": {
        "colab": {
          "base_uri": "https://localhost:8080/",
          "height": 219
        },
        "id": "uDNPEEq-9EbA",
        "outputId": "e9d62eef-419a-4668-af32-0329fb990f15"
      },
      "execution_count": null,
      "outputs": [
        {
          "output_type": "execute_result",
          "data": {
            "text/plain": [
              "         be      best   captain  considered   cricket   federer  greatest  \\\n",
              "0  1.916291  0.000000  0.000000    1.223144  1.510826  0.000000  1.510826   \n",
              "1  0.000000  0.000000  0.000000    1.223144  0.000000  1.916291  1.510826   \n",
              "2  0.000000  1.916291  0.000000    1.223144  0.000000  0.000000  0.000000   \n",
              "3  0.000000  0.000000  1.916291    0.000000  1.510826  0.000000  0.000000   \n",
              "\n",
              "     indian   is     nadal   of       one    player   players    sachin  \\\n",
              "0  0.000000  1.0  0.000000  1.0  1.223144  0.000000  1.510826  1.916291   \n",
              "1  0.000000  1.0  0.000000  1.0  1.223144  0.000000  1.510826  0.000000   \n",
              "2  0.000000  1.0  1.916291  1.0  1.223144  1.916291  0.000000  0.000000   \n",
              "3  1.916291  1.0  0.000000  1.0  0.000000  0.000000  0.000000  0.000000   \n",
              "\n",
              "       team    tennis  the        to     virat  \n",
              "0  0.000000  0.000000  1.0  1.916291  0.000000  \n",
              "1  0.000000  1.510826  1.0  0.000000  0.000000  \n",
              "2  0.000000  1.510826  1.0  0.000000  0.000000  \n",
              "3  1.916291  0.000000  2.0  0.000000  1.916291  "
            ],
            "text/html": [
              "\n",
              "  <div id=\"df-a30ccca3-16a1-427b-9557-664325430644\">\n",
              "    <div class=\"colab-df-container\">\n",
              "      <div>\n",
              "<style scoped>\n",
              "    .dataframe tbody tr th:only-of-type {\n",
              "        vertical-align: middle;\n",
              "    }\n",
              "\n",
              "    .dataframe tbody tr th {\n",
              "        vertical-align: top;\n",
              "    }\n",
              "\n",
              "    .dataframe thead th {\n",
              "        text-align: right;\n",
              "    }\n",
              "</style>\n",
              "<table border=\"1\" class=\"dataframe\">\n",
              "  <thead>\n",
              "    <tr style=\"text-align: right;\">\n",
              "      <th></th>\n",
              "      <th>be</th>\n",
              "      <th>best</th>\n",
              "      <th>captain</th>\n",
              "      <th>considered</th>\n",
              "      <th>cricket</th>\n",
              "      <th>federer</th>\n",
              "      <th>greatest</th>\n",
              "      <th>indian</th>\n",
              "      <th>is</th>\n",
              "      <th>nadal</th>\n",
              "      <th>of</th>\n",
              "      <th>one</th>\n",
              "      <th>player</th>\n",
              "      <th>players</th>\n",
              "      <th>sachin</th>\n",
              "      <th>team</th>\n",
              "      <th>tennis</th>\n",
              "      <th>the</th>\n",
              "      <th>to</th>\n",
              "      <th>virat</th>\n",
              "    </tr>\n",
              "  </thead>\n",
              "  <tbody>\n",
              "    <tr>\n",
              "      <th>0</th>\n",
              "      <td>1.916291</td>\n",
              "      <td>0.000000</td>\n",
              "      <td>0.000000</td>\n",
              "      <td>1.223144</td>\n",
              "      <td>1.510826</td>\n",
              "      <td>0.000000</td>\n",
              "      <td>1.510826</td>\n",
              "      <td>0.000000</td>\n",
              "      <td>1.0</td>\n",
              "      <td>0.000000</td>\n",
              "      <td>1.0</td>\n",
              "      <td>1.223144</td>\n",
              "      <td>0.000000</td>\n",
              "      <td>1.510826</td>\n",
              "      <td>1.916291</td>\n",
              "      <td>0.000000</td>\n",
              "      <td>0.000000</td>\n",
              "      <td>1.0</td>\n",
              "      <td>1.916291</td>\n",
              "      <td>0.000000</td>\n",
              "    </tr>\n",
              "    <tr>\n",
              "      <th>1</th>\n",
              "      <td>0.000000</td>\n",
              "      <td>0.000000</td>\n",
              "      <td>0.000000</td>\n",
              "      <td>1.223144</td>\n",
              "      <td>0.000000</td>\n",
              "      <td>1.916291</td>\n",
              "      <td>1.510826</td>\n",
              "      <td>0.000000</td>\n",
              "      <td>1.0</td>\n",
              "      <td>0.000000</td>\n",
              "      <td>1.0</td>\n",
              "      <td>1.223144</td>\n",
              "      <td>0.000000</td>\n",
              "      <td>1.510826</td>\n",
              "      <td>0.000000</td>\n",
              "      <td>0.000000</td>\n",
              "      <td>1.510826</td>\n",
              "      <td>1.0</td>\n",
              "      <td>0.000000</td>\n",
              "      <td>0.000000</td>\n",
              "    </tr>\n",
              "    <tr>\n",
              "      <th>2</th>\n",
              "      <td>0.000000</td>\n",
              "      <td>1.916291</td>\n",
              "      <td>0.000000</td>\n",
              "      <td>1.223144</td>\n",
              "      <td>0.000000</td>\n",
              "      <td>0.000000</td>\n",
              "      <td>0.000000</td>\n",
              "      <td>0.000000</td>\n",
              "      <td>1.0</td>\n",
              "      <td>1.916291</td>\n",
              "      <td>1.0</td>\n",
              "      <td>1.223144</td>\n",
              "      <td>1.916291</td>\n",
              "      <td>0.000000</td>\n",
              "      <td>0.000000</td>\n",
              "      <td>0.000000</td>\n",
              "      <td>1.510826</td>\n",
              "      <td>1.0</td>\n",
              "      <td>0.000000</td>\n",
              "      <td>0.000000</td>\n",
              "    </tr>\n",
              "    <tr>\n",
              "      <th>3</th>\n",
              "      <td>0.000000</td>\n",
              "      <td>0.000000</td>\n",
              "      <td>1.916291</td>\n",
              "      <td>0.000000</td>\n",
              "      <td>1.510826</td>\n",
              "      <td>0.000000</td>\n",
              "      <td>0.000000</td>\n",
              "      <td>1.916291</td>\n",
              "      <td>1.0</td>\n",
              "      <td>0.000000</td>\n",
              "      <td>1.0</td>\n",
              "      <td>0.000000</td>\n",
              "      <td>0.000000</td>\n",
              "      <td>0.000000</td>\n",
              "      <td>0.000000</td>\n",
              "      <td>1.916291</td>\n",
              "      <td>0.000000</td>\n",
              "      <td>2.0</td>\n",
              "      <td>0.000000</td>\n",
              "      <td>1.916291</td>\n",
              "    </tr>\n",
              "  </tbody>\n",
              "</table>\n",
              "</div>\n",
              "      <button class=\"colab-df-convert\" onclick=\"convertToInteractive('df-a30ccca3-16a1-427b-9557-664325430644')\"\n",
              "              title=\"Convert this dataframe to an interactive table.\"\n",
              "              style=\"display:none;\">\n",
              "        \n",
              "  <svg xmlns=\"http://www.w3.org/2000/svg\" height=\"24px\"viewBox=\"0 0 24 24\"\n",
              "       width=\"24px\">\n",
              "    <path d=\"M0 0h24v24H0V0z\" fill=\"none\"/>\n",
              "    <path d=\"M18.56 5.44l.94 2.06.94-2.06 2.06-.94-2.06-.94-.94-2.06-.94 2.06-2.06.94zm-11 1L8.5 8.5l.94-2.06 2.06-.94-2.06-.94L8.5 2.5l-.94 2.06-2.06.94zm10 10l.94 2.06.94-2.06 2.06-.94-2.06-.94-.94-2.06-.94 2.06-2.06.94z\"/><path d=\"M17.41 7.96l-1.37-1.37c-.4-.4-.92-.59-1.43-.59-.52 0-1.04.2-1.43.59L10.3 9.45l-7.72 7.72c-.78.78-.78 2.05 0 2.83L4 21.41c.39.39.9.59 1.41.59.51 0 1.02-.2 1.41-.59l7.78-7.78 2.81-2.81c.8-.78.8-2.07 0-2.86zM5.41 20L4 18.59l7.72-7.72 1.47 1.35L5.41 20z\"/>\n",
              "  </svg>\n",
              "      </button>\n",
              "      \n",
              "  <style>\n",
              "    .colab-df-container {\n",
              "      display:flex;\n",
              "      flex-wrap:wrap;\n",
              "      gap: 12px;\n",
              "    }\n",
              "\n",
              "    .colab-df-convert {\n",
              "      background-color: #E8F0FE;\n",
              "      border: none;\n",
              "      border-radius: 50%;\n",
              "      cursor: pointer;\n",
              "      display: none;\n",
              "      fill: #1967D2;\n",
              "      height: 32px;\n",
              "      padding: 0 0 0 0;\n",
              "      width: 32px;\n",
              "    }\n",
              "\n",
              "    .colab-df-convert:hover {\n",
              "      background-color: #E2EBFA;\n",
              "      box-shadow: 0px 1px 2px rgba(60, 64, 67, 0.3), 0px 1px 3px 1px rgba(60, 64, 67, 0.15);\n",
              "      fill: #174EA6;\n",
              "    }\n",
              "\n",
              "    [theme=dark] .colab-df-convert {\n",
              "      background-color: #3B4455;\n",
              "      fill: #D2E3FC;\n",
              "    }\n",
              "\n",
              "    [theme=dark] .colab-df-convert:hover {\n",
              "      background-color: #434B5C;\n",
              "      box-shadow: 0px 1px 3px 1px rgba(0, 0, 0, 0.15);\n",
              "      filter: drop-shadow(0px 1px 2px rgba(0, 0, 0, 0.3));\n",
              "      fill: #FFFFFF;\n",
              "    }\n",
              "  </style>\n",
              "\n",
              "      <script>\n",
              "        const buttonEl =\n",
              "          document.querySelector('#df-a30ccca3-16a1-427b-9557-664325430644 button.colab-df-convert');\n",
              "        buttonEl.style.display =\n",
              "          google.colab.kernel.accessAllowed ? 'block' : 'none';\n",
              "\n",
              "        async function convertToInteractive(key) {\n",
              "          const element = document.querySelector('#df-a30ccca3-16a1-427b-9557-664325430644');\n",
              "          const dataTable =\n",
              "            await google.colab.kernel.invokeFunction('convertToInteractive',\n",
              "                                                     [key], {});\n",
              "          if (!dataTable) return;\n",
              "\n",
              "          const docLinkHtml = 'Like what you see? Visit the ' +\n",
              "            '<a target=\"_blank\" href=https://colab.research.google.com/notebooks/data_table.ipynb>data table notebook</a>'\n",
              "            + ' to learn more about interactive tables.';\n",
              "          element.innerHTML = '';\n",
              "          dataTable['output_type'] = 'display_data';\n",
              "          await google.colab.output.renderOutput(dataTable, element);\n",
              "          const docLink = document.createElement('div');\n",
              "          docLink.innerHTML = docLinkHtml;\n",
              "          element.appendChild(docLink);\n",
              "        }\n",
              "      </script>\n",
              "    </div>\n",
              "  </div>\n",
              "  "
            ]
          },
          "metadata": {},
          "execution_count": 46
        }
      ]
    },
    {
      "cell_type": "code",
      "source": [
        "features_names = sorted(vectorizer.get_feature_names_out())\n",
        "features_names"
      ],
      "metadata": {
        "colab": {
          "base_uri": "https://localhost:8080/"
        },
        "id": "Gk3Dl0eR9Rzt",
        "outputId": "1a4eec03-6b05-4aa1-9cc8-e91611bd7034"
      },
      "execution_count": null,
      "outputs": [
        {
          "output_type": "execute_result",
          "data": {
            "text/plain": [
              "['be',\n",
              " 'best',\n",
              " 'captain',\n",
              " 'considered',\n",
              " 'cricket',\n",
              " 'federer',\n",
              " 'greatest',\n",
              " 'indian',\n",
              " 'is',\n",
              " 'nadal',\n",
              " 'of',\n",
              " 'one',\n",
              " 'player',\n",
              " 'players',\n",
              " 'sachin',\n",
              " 'team',\n",
              " 'tennis',\n",
              " 'the',\n",
              " 'to',\n",
              " 'virat']"
            ]
          },
          "metadata": {},
          "execution_count": 47
        }
      ]
    },
    {
      "cell_type": "code",
      "source": [
        "docList = ['Doc1','Doc2','Doc3','Doc4']\n",
        "s=pd.DataFrame(tfidfMat.todense(),\n",
        "               index=sorted(docList),columns=features_names)\n",
        "print(s)"
      ],
      "metadata": {
        "colab": {
          "base_uri": "https://localhost:8080/"
        },
        "id": "zlO_wGPo92h0",
        "outputId": "2fd7ddca-a25d-4429-86e0-1c1160a70da5"
      },
      "execution_count": null,
      "outputs": [
        {
          "output_type": "stream",
          "name": "stdout",
          "text": [
            "            be      best   captain  considered   cricket   federer  greatest  \\\n",
            "Doc1  1.916291  0.000000  0.000000    1.223144  1.510826  0.000000  1.510826   \n",
            "Doc2  0.000000  0.000000  0.000000    1.223144  0.000000  1.916291  1.510826   \n",
            "Doc3  0.000000  1.916291  0.000000    1.223144  0.000000  0.000000  0.000000   \n",
            "Doc4  0.000000  0.000000  1.916291    0.000000  1.510826  0.000000  0.000000   \n",
            "\n",
            "        indian   is     nadal   of       one    player   players    sachin  \\\n",
            "Doc1  0.000000  1.0  0.000000  1.0  1.223144  0.000000  1.510826  1.916291   \n",
            "Doc2  0.000000  1.0  0.000000  1.0  1.223144  0.000000  1.510826  0.000000   \n",
            "Doc3  0.000000  1.0  1.916291  1.0  1.223144  1.916291  0.000000  0.000000   \n",
            "Doc4  1.916291  1.0  0.000000  1.0  0.000000  0.000000  0.000000  0.000000   \n",
            "\n",
            "          team    tennis  the        to     virat  \n",
            "Doc1  0.000000  0.000000  1.0  1.916291  0.000000  \n",
            "Doc2  0.000000  1.510826  1.0  0.000000  0.000000  \n",
            "Doc3  0.000000  1.510826  1.0  0.000000  0.000000  \n",
            "Doc4  1.916291  0.000000  2.0  0.000000  1.916291  \n"
          ]
        }
      ]
    },
    {
      "cell_type": "markdown",
      "source": [
        "#Compute Cosine Similarity(optional)\n",
        "csim = cosine_similarity(tfidfMat,tfidfMat)\n",
        "\n",
        "csimDf = pd.DataFrame(csim,index = sorted(docList),\n",
        "\n",
        "columns = sorted(docList))\n",
        "\n",
        "print(csimDf)"
      ],
      "metadata": {
        "id": "4OZP5AFN_Ppy"
      }
    },
    {
      "cell_type": "code",
      "source": [],
      "metadata": {
        "id": "c5aByaqq-2Lx"
      },
      "execution_count": null,
      "outputs": []
    }
  ]
}